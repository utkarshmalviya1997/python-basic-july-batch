{
  "nbformat": 4,
  "nbformat_minor": 0,
  "metadata": {
    "colab": {
      "provenance": []
    },
    "kernelspec": {
      "name": "python3",
      "display_name": "Python 3"
    },
    "language_info": {
      "name": "python"
    }
  },
  "cells": [
    {
      "cell_type": "markdown",
      "source": [
        "#python basics"
      ],
      "metadata": {
        "id": "go8wL0BfPGEA"
      }
    },
    {
      "cell_type": "markdown",
      "source": [
        "1. What is Python, and why is it popular ?\n",
        "  - python is a interpretated programming language which is simpler language to learn and interact with the machine. it is popular because it is easy to learn and a person does not require deep technical knowledge and coding background to work with python it provides user friendly interface and less complexities.\n",
        "\n",
        "2. What is an interpreter in Python ?\n",
        "  - Interpreter is a translator that translates the codes line wise line that means each line is executed one after.\n",
        "\n",
        "3. What are pre-defined keywords in Python ?\n",
        "  - pre defined keywords in python are the reserved words for specific purpose used by the python interpreter.Each keyword has a unique predefined meaning and role in the language.\n",
        "\n",
        "4. Can keywords be used as variable names ?\n",
        "  - Keywords can not be used as variables because if we use keyword as a variable then it will not be used latervfor the purpose it is created for.\n",
        "\n",
        "5. What is mutability in Python ?\n",
        "  - Changing the state or value of objects after they are created is mutability.\n",
        "\n",
        "6. Why are lists mutable, but tuples are immutable ?\n",
        "  -   items and the order of list can be changed and we can reassign an item in a list later therefore a list is mutable but items in a tuple cannot be added or removed or changed after they are created therefore tuples are immutable.\n",
        "\n",
        "7. What is the difference between “==” and “is” operators in Python ?\n",
        "  - \"==\" is a comparison operator it means equal to we use this operator when we want to check the value is equal to the required value and\n",
        "  \"is\" it is a identity operator it compares the location of two objects or variables .\n",
        "\n",
        "8. What are logical operators in Python ?\n",
        "  - logical operators are used to perform logical calculations on two or more values and produces a result accordingly.\n",
        "  there are three logical operator taught to us-\n",
        "  1. AND    2. OR     3. NOT\n",
        "\n",
        "9. What is type casting in Python ?\n",
        "  - casting means conversion of data types of variables from one to other as per the requirement.    \n",
        "\n",
        "10. What is the difference between implicit and explicit type casting ?\n",
        "  - implicit type casting- python already understand the datatype and there is no need to define it. python itself convert some datatypes according to need. this type casting is implicit.\n",
        "  Explicit type casting - conversion of datatypes from one form to another manually i.e by the user itself python does not perform it itself is called explicit type casting.   \n",
        "\n",
        "11. What is the purpose of conditional statements in Python ?\n",
        "  - Conditional statements are used to control the flow of execution in a program based on whether certain the provided conditions are met and it enable decision making within the code depending upon the evaluation of provided condition.\n",
        "\n",
        "12.  How does the elif statement work ?  \n",
        "  - elif statement means else if. it is used in conditional statement to check the multiple conditions like if first condition is false code moves to the else if condition to check the condition is true.\n",
        "\n",
        "13. What is the difference between for and while loops ?\n",
        "  - the major difference is for loop is used when the number of iterations are known before because it iterate over a sequence of elements.\n",
        "  while loop is used when the number of iterations is not known because it depends upon the execution of a block of code untill a exit condition is met.\n",
        "\n",
        "14. Describe a scenario where a while loop is more suitable than a for loop.   \n",
        "  - Imagine a situation where we are reading data from a file until we reach the end. we don't know how many lines the file contains, so we need a loop that keeps reading line by line until there are no more lines to read. In such a case, a \"While Loop\" is more appropriate because the number of iterations needed isn't known in advance it depends on the file's content."
      ],
      "metadata": {
        "id": "jVvIxshYQmy0"
      }
    },
    {
      "cell_type": "code",
      "source": [
        "#1 Write a Python program to print \"Hello, World!y\n",
        "print (\"hellow world !\")\n"
      ],
      "metadata": {
        "colab": {
          "base_uri": "https://localhost:8080/"
        },
        "id": "fNQZA-ZEQlzo",
        "outputId": "20811d08-cada-4b9f-faaf-a2496b4e87a7"
      },
      "execution_count": null,
      "outputs": [
        {
          "output_type": "stream",
          "name": "stdout",
          "text": [
            "hellow, world !\n"
          ]
        }
      ]
    },
    {
      "cell_type": "code",
      "execution_count": null,
      "metadata": {
        "id": "cS-he1J5MM5c",
        "colab": {
          "base_uri": "https://localhost:8080/"
        },
        "outputId": "d511f2c8-52d6-4fa5-e700-1f2613130e4d"
      },
      "outputs": [
        {
          "output_type": "stream",
          "name": "stdout",
          "text": [
            "my name is utkarsh malviya my age is 27 years\n"
          ]
        }
      ],
      "source": [
        "#2 Write a Python program that displays your name and age\n",
        "name = \"utkarsh malviya\"\n",
        "age = 27\n",
        "print (\"my name is\",name,\"my age is\",age,\"years\")"
      ]
    },
    {
      "cell_type": "code",
      "source": [
        "# 3 Write code to print all the pre-defined keywords in Python using the keyword library\n",
        "keywords = keyword.kwlist\n",
        "print(keywords)"
      ],
      "metadata": {
        "colab": {
          "base_uri": "https://localhost:8080/"
        },
        "id": "2wvE6ZOskusS",
        "outputId": "f0ce27f4-031b-4d51-cadf-04c8bc34818f"
      },
      "execution_count": null,
      "outputs": [
        {
          "output_type": "stream",
          "name": "stdout",
          "text": [
            "['False', 'None', 'True', 'and', 'as', 'assert', 'async', 'await', 'break', 'class', 'continue', 'def', 'del', 'elif', 'else', 'except', 'finally', 'for', 'from', 'global', 'if', 'import', 'in', 'is', 'lambda', 'nonlocal', 'not', 'or', 'pass', 'raise', 'return', 'try', 'while', 'with', 'yield']\n"
          ]
        }
      ]
    },
    {
      "cell_type": "code",
      "source": [
        "#4 Write a program that checks if a given word is a Python keyword.\n",
        "\n",
        "import keyword\n",
        "keyword = keyword.kwlist\n",
        "\n",
        "\"for\" in keyword"
      ],
      "metadata": {
        "colab": {
          "base_uri": "https://localhost:8080/"
        },
        "id": "tS7eiTQvqc3x",
        "outputId": "25b14d8c-7a0b-41cc-a379-6511b6f38f67"
      },
      "execution_count": null,
      "outputs": [
        {
          "output_type": "execute_result",
          "data": {
            "text/plain": [
              "True"
            ]
          },
          "metadata": {},
          "execution_count": 54
        }
      ]
    },
    {
      "cell_type": "code",
      "source": [
        "#5 Create a list and tuple in Python, and demonstrate how attempting to change an element works differently\n",
        "# for each\n",
        "a= list(range(0,10))\n",
        "a[5]=\"hy\"\n",
        "print(a)\n",
        "\n",
        "b=tuple(range(0,10))\n",
        "b[5]=\"hy\"\n",
        "print(b)\n",
        "'''\n",
        "tuple does not support item assignment as it is immutable\n",
        "'''"
      ],
      "metadata": {
        "colab": {
          "base_uri": "https://localhost:8080/",
          "height": 211
        },
        "id": "iawKJHZdq6Uk",
        "outputId": "0c71fb10-9d4d-4a7e-b30f-222c44698183"
      },
      "execution_count": null,
      "outputs": [
        {
          "output_type": "stream",
          "name": "stdout",
          "text": [
            "[0, 1, 2, 3, 4, 'hy', 6, 7, 8, 9]\n"
          ]
        },
        {
          "output_type": "error",
          "ename": "TypeError",
          "evalue": "'tuple' object does not support item assignment",
          "traceback": [
            "\u001b[0;31m---------------------------------------------------------------------------\u001b[0m",
            "\u001b[0;31mTypeError\u001b[0m                                 Traceback (most recent call last)",
            "\u001b[0;32m/tmp/ipython-input-71-293181510.py\u001b[0m in \u001b[0;36m<cell line: 0>\u001b[0;34m()\u001b[0m\n\u001b[1;32m      6\u001b[0m \u001b[0;34m\u001b[0m\u001b[0m\n\u001b[1;32m      7\u001b[0m \u001b[0mb\u001b[0m\u001b[0;34m=\u001b[0m\u001b[0mtuple\u001b[0m\u001b[0;34m(\u001b[0m\u001b[0mrange\u001b[0m\u001b[0;34m(\u001b[0m\u001b[0;36m0\u001b[0m\u001b[0;34m,\u001b[0m\u001b[0;36m10\u001b[0m\u001b[0;34m)\u001b[0m\u001b[0;34m)\u001b[0m\u001b[0;34m\u001b[0m\u001b[0;34m\u001b[0m\u001b[0m\n\u001b[0;32m----> 8\u001b[0;31m \u001b[0mb\u001b[0m\u001b[0;34m[\u001b[0m\u001b[0;36m5\u001b[0m\u001b[0;34m]\u001b[0m\u001b[0;34m=\u001b[0m\u001b[0;34m\"hy\"\u001b[0m\u001b[0;34m\u001b[0m\u001b[0;34m\u001b[0m\u001b[0m\n\u001b[0m\u001b[1;32m      9\u001b[0m \u001b[0mprint\u001b[0m\u001b[0;34m(\u001b[0m\u001b[0mb\u001b[0m\u001b[0;34m)\u001b[0m\u001b[0;34m\u001b[0m\u001b[0;34m\u001b[0m\u001b[0m\n",
            "\u001b[0;31mTypeError\u001b[0m: 'tuple' object does not support item assignment"
          ]
        }
      ]
    },
    {
      "cell_type": "code",
      "source": [
        "#6 Write a function to demonstrate the behavior of mutable and immutable arguments.\n",
        "my_list = [1, 2, 3]\n",
        "my_string = \"hello\"\n",
        "\n",
        "print(f\"Outside function (before call):\")\n",
        "print(f\"  Mutable list: {my_list}\")\n",
        "print(f\"  Immutable string: {my_string}\")\n",
        "\n",
        "demonstrate_mutability(my_list, my_string)\n",
        "\n",
        "print(f\"Outside function (after call):\")\n",
        "print(f\"  Mutable list: {my_list}\")\n",
        "print(f\"  Immutable string: {my_string}\")\n"
      ],
      "metadata": {
        "id": "2tTLyIRdtiT3",
        "colab": {
          "base_uri": "https://localhost:8080/"
        },
        "outputId": "1544b138-79aa-4b5c-a72b-513a7d65dd3d"
      },
      "execution_count": null,
      "outputs": [
        {
          "output_type": "stream",
          "name": "stdout",
          "text": [
            "Outside function (before call):\n",
            "  Mutable list: [1, 2, 3]\n",
            "  Immutable string: hello\n",
            "Inside function (before modification):\n",
            "  Mutable list: [1, 2, 3]\n",
            "  Immutable string: hello\n",
            "Inside function (after modification):\n",
            "  Mutable list: [1, 2, 3, 'new_item']\n",
            "  Immutable string: hello modified\n",
            "Outside function (after call):\n",
            "  Mutable list: [1, 2, 3, 'new_item']\n",
            "  Immutable string: hello\n"
          ]
        }
      ]
    },
    {
      "cell_type": "code",
      "source": [
        "#7  Write a program that performs basic arithmetic operations on two user-input numbers.\n",
        "\n",
        "a = int(input(\"1st number - \"))\n",
        "b = int(input(\"2nd number -\"))\n",
        "print (\"sum is=\",(a+b))\n",
        "print (\"difference is=\",(a-b))\n",
        "print (\"product is=\",(a*b))\n",
        "print (\"quotient is=\",(a/b))"
      ],
      "metadata": {
        "colab": {
          "base_uri": "https://localhost:8080/"
        },
        "id": "czcDeIAAuyDy",
        "outputId": "d0cfdfbb-72ab-4dca-8afb-5cd3ce16f009"
      },
      "execution_count": null,
      "outputs": [
        {
          "output_type": "stream",
          "name": "stdout",
          "text": [
            "1st number - 5\n",
            "2nd number -6\n",
            "sum is= 11\n",
            "difference is= -1\n",
            "product is= 30\n",
            "quotient is= 0.8333333333333334\n"
          ]
        }
      ]
    },
    {
      "cell_type": "code",
      "source": [
        "#8 Write a program to demonstrate the use of logical operators.\n",
        "number = int(input(\"enter the number=\"))\n",
        "\n",
        "if ((number % 2 == 0)and(number > 0)):\n",
        "  print(\"number is even and positive\")\n",
        "else :\n",
        "  print(\"it is not a even positive number\")"
      ],
      "metadata": {
        "colab": {
          "base_uri": "https://localhost:8080/"
        },
        "id": "xJisAMdP_BYV",
        "outputId": "e5bca9cd-b845-430a-c1f5-dd9d8f8830a0"
      },
      "execution_count": null,
      "outputs": [
        {
          "output_type": "stream",
          "name": "stdout",
          "text": [
            "enter the number=40\n",
            "number is even and positive\n"
          ]
        }
      ]
    },
    {
      "cell_type": "code",
      "source": [
        "#9  Write a Python program to convert user input from string to integer, float, and boolean types\n",
        "a = input(\"your age is-\")\n",
        "print(int(a))\n",
        "print(float(a))\n",
        "print(bool(a))"
      ],
      "metadata": {
        "colab": {
          "base_uri": "https://localhost:8080/"
        },
        "id": "OZ8gfMkjCoT4",
        "outputId": "74ecf51c-9294-4f79-a246-46b7a07e6d33"
      },
      "execution_count": null,
      "outputs": [
        {
          "output_type": "stream",
          "name": "stdout",
          "text": [
            "your age is-25\n",
            "25\n",
            "25.0\n",
            "True\n"
          ]
        }
      ]
    },
    {
      "cell_type": "code",
      "source": [
        "#10 Write code to demonstrate type casting with list elements.\n",
        "a=[\"1\",\"2\",\"3\",\"4\",\"5\"]\n",
        "print(a)\n",
        "int_list = [int(x) for x in a]\n",
        "print(int_list)\n",
        "float_list = [float(x) for x in a]\n",
        "print (float_list)"
      ],
      "metadata": {
        "colab": {
          "base_uri": "https://localhost:8080/"
        },
        "id": "5JhbeRM-DZNM",
        "outputId": "3b57282c-8bad-4e53-8fd4-9c24dea1a76d"
      },
      "execution_count": null,
      "outputs": [
        {
          "output_type": "stream",
          "name": "stdout",
          "text": [
            "['1', '2', '3', '4', '5']\n",
            "[1, 2, 3, 4, 5]\n",
            "[1.0, 2.0, 3.0, 4.0, 5.0]\n"
          ]
        }
      ]
    },
    {
      "cell_type": "code",
      "source": [
        "#11 Write a program that checks if a number is positive, negative, or zero.\n",
        "\n",
        "number = int(input(\"enter the no. =\"))\n",
        "if number > 0 :\n",
        "  print (\"number is postive\")\n",
        "elif number ==0:\n",
        "    print (\"number is equal to 0\")\n",
        "else:\n",
        "  print (\"number is negative\")"
      ],
      "metadata": {
        "colab": {
          "base_uri": "https://localhost:8080/"
        },
        "id": "tbx_QSzjFfJa",
        "outputId": "f75e8594-3d27-448a-9bc8-0131e6898b5b"
      },
      "execution_count": null,
      "outputs": [
        {
          "output_type": "stream",
          "name": "stdout",
          "text": [
            "enter the no. =-5\n",
            "number is negative\n"
          ]
        }
      ]
    },
    {
      "cell_type": "code",
      "source": [
        "#12 Write a for loop to print numbers from 1 to 10.\n",
        "number = list(range(1,11))\n",
        "for i in number:\n",
        "  print(i,end=\"  \")"
      ],
      "metadata": {
        "colab": {
          "base_uri": "https://localhost:8080/"
        },
        "id": "DCMseAUwHLPx",
        "outputId": "acff161f-2146-47d0-8164-88fed1e8e6ce"
      },
      "execution_count": null,
      "outputs": [
        {
          "output_type": "stream",
          "name": "stdout",
          "text": [
            "1  2  3  4  5  6  7  8  9  10  "
          ]
        }
      ]
    },
    {
      "cell_type": "code",
      "source": [
        "#13  Write a Python program to find the sum of all even numbers between 1 and 50.\n",
        "sum =0\n",
        "a = (range(1,51))\n",
        "for number in a:\n",
        "  if number%2==0:\n",
        "     sum +=number\n",
        "print(sum)\n",
        "\n"
      ],
      "metadata": {
        "colab": {
          "base_uri": "https://localhost:8080/"
        },
        "id": "00-XHmRHIQjO",
        "outputId": "6747d6b7-8a43-4a0c-ecd8-3daeb866fd6b"
      },
      "execution_count": null,
      "outputs": [
        {
          "output_type": "stream",
          "name": "stdout",
          "text": [
            "650\n"
          ]
        }
      ]
    },
    {
      "cell_type": "code",
      "source": [
        "#14 Python program to reverse a string using a while loop.\n",
        "\n",
        "\n",
        "name = \"utkarsh\"\n",
        "reversed_name = \"\"\n",
        "i = len(name) - 1\n",
        "while i >= 0:\n",
        "    reversed_name = reversed_name + name[i]\n",
        "    i = i-1\n",
        "print(\"Reversed string:\", reversed_name)\n"
      ],
      "metadata": {
        "colab": {
          "base_uri": "https://localhost:8080/"
        },
        "id": "ZiZnbi9KRUse",
        "outputId": "7ba69eec-2db0-454e-c4cd-6d523cf868e7"
      },
      "execution_count": null,
      "outputs": [
        {
          "output_type": "stream",
          "name": "stdout",
          "text": [
            "Reversed string: hsraktu\n"
          ]
        }
      ]
    },
    {
      "cell_type": "code",
      "source": [
        "#15  Write a Python program to calculate the factorial of a number provided by the user using a while loop.\n",
        "\n",
        "number = int(input(\"enter the number=\"))\n",
        "if number < 0:\n",
        "  Print(\"number is negative\")\n",
        "else:\n",
        "    factorial = 1\n",
        "    i = 1\n",
        "while i <= number :\n",
        "      factorial = factorial*i\n",
        "      i = i+1\n",
        "print (factorial)\n"
      ],
      "metadata": {
        "colab": {
          "base_uri": "https://localhost:8080/"
        },
        "id": "F4NBH3m5VYCH",
        "outputId": "647c42ac-aa49-49bf-cd84-5f67cede213c"
      },
      "execution_count": null,
      "outputs": [
        {
          "output_type": "stream",
          "name": "stdout",
          "text": [
            "enter the number=4\n",
            "24\n"
          ]
        }
      ]
    },
    {
      "cell_type": "markdown",
      "source": [],
      "metadata": {
        "id": "FGmAky5GTcNt"
      }
    }
  ]
}